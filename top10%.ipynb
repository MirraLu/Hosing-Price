{
 "cells": [
  {
   "cell_type": "code",
   "execution_count": 1,
   "metadata": {
    "collapsed": true
   },
   "outputs": [],
   "source": [
    "import pandas as pd\n",
    "import numpy as np\n",
    "from sklearn.preprocessing import OneHotEncoder\n",
    "import seaborn as sns\n",
    "import matplotlib.pyplot as plt"
   ]
  },
  {
   "cell_type": "code",
   "execution_count": 2,
   "outputs": [],
   "source": [
    "class transform_data:\n",
    "    def __init__(self, path):\n",
    "        self.path = path\n",
    "\n",
    "    def get_data(self, train_or_analysis = 'train'):\n",
    "        # Load data\n",
    "        train_df = pd.read_csv(self.path)\n",
    "\n",
    "        # Calculate percentage of null values in columns\n",
    "        def pct_null_column(df):\n",
    "            nulls = {}\n",
    "            for column in df.columns:\n",
    "                l = len(df)\n",
    "                null = (df[column].isna()).sum()\n",
    "                pct_null = (null / l) * 100\n",
    "                nulls[column] = pct_null\n",
    "            df = pd.DataFrame(index = ['pct_null_values'], data = nulls).T.sort_values(by = 'pct_null_values', ascending=False)\n",
    "            return df.loc[(df.pct_null_values != 0)]\n",
    "\n",
    "        nulls = pct_null_column(train_df.copy())\n",
    "\n",
    "        # Fill null values\n",
    "        def fill_nas(df):\n",
    "            for column in df.columns:\n",
    "                if column == 'PoolQC':\n",
    "                    df[column] = df[column].fillna('No Pool')\n",
    "                elif column == 'MiscFeature':\n",
    "                    df[column] = df[column].fillna('No Misc')\n",
    "                elif column == 'Alley':\n",
    "                    df[column] = df[column].fillna('No Alley')\n",
    "                elif column == 'Fence':\n",
    "                    df[column] = df[column].fillna('No Fence')\n",
    "                elif column == 'FireplaceQu':\n",
    "                    df[column] = df[column].fillna('No Fireplace')\n",
    "                elif column == 'GarageYrBlt':\n",
    "                    df[column] = df[column].fillna(0)\n",
    "                elif column in ('GarageCond', 'GarageType', 'GarageFinish', 'GarageQual'):\n",
    "                    df[column] = df[column].fillna('No Garage')\n",
    "                elif column in ('BsmtFinType2', 'BsmtExposure', 'BsmtQual', 'BsmtCond', 'BsmtFinType1'):\n",
    "                    df[column] = df[column].fillna('No Basement')\n",
    "                elif column == 'LotFrontage':\n",
    "                    df[column] = df[column].fillna(df[column].mean())\n",
    "            #df.dropna(inplace = True)\n",
    "            return df\n",
    "\n",
    "        train_df = fill_nas(train_df)\n",
    "        ## For analysis is better to have categorical columns instead of onehot encoded\n",
    "        if train_or_analysis == 'analysis':\n",
    "            return train_df\n",
    "        # Log-transform numerical columns\n",
    "        num_columns = []\n",
    "        for column in train_df.columns:\n",
    "            if train_df[column].dtype in ('int64', 'float64'):\n",
    "                num_columns.append(column)\n",
    "\n",
    "        #for column in num_columns:\n",
    "        #    if train_df[column].min() == 0:\n",
    "        #       train_df[column] = np.log(train_df[column].astype(float) + 1)\n",
    "        #    elif column == 'Id':\n",
    "        #        continue\n",
    "        #    else:\n",
    "        #        train_df[column] = np.log(train_df[column].astype(float))\n",
    "\n",
    "        # One-hot encode categorical columns\n",
    "        cat_columns = [column for column in train_df.columns if train_df[column].dtype == 'O']\n",
    "\n",
    "        train_cat = pd.DataFrame()\n",
    "        encoder = OneHotEncoder()\n",
    "        for i in cat_columns:\n",
    "            cat = pd.DataFrame(data = encoder.fit_transform(train_df[[i]]).toarray(), columns = encoder.get_feature_names_out())\n",
    "            if i == 'MSZoning':\n",
    "                train_cat = cat\n",
    "            else:\n",
    "                train_cat = train_cat.join(cat)\n",
    "\n",
    "        train_df.drop(cat_columns, axis = 1, inplace = True)\n",
    "        train_cat.reset_index(drop = True, inplace = True)\n",
    "        train_df.reset_index(drop = True, inplace = True)\n",
    "\n",
    "        # Join transformed columns\n",
    "        train_df = train_df.join(train_cat)\n",
    "\n",
    "        return train_df"
   ],
   "metadata": {
    "collapsed": false,
    "pycharm": {
     "name": "#%%\n"
    }
   }
  },
  {
   "cell_type": "code",
   "execution_count": 3,
   "outputs": [
    {
     "data": {
      "text/plain": "   Id  MSSubClass  LotFrontage  LotArea  OverallQual  OverallCond  YearBuilt  \\\n0   1          60         65.0     8450            7            5       2003   \n1   2          20         80.0     9600            6            8       1976   \n2   3          60         68.0    11250            7            5       2001   \n3   4          70         60.0     9550            7            5       1915   \n4   5          60         84.0    14260            8            5       2000   \n\n   YearRemodAdd  MasVnrArea  BsmtFinSF1  ...  SaleType_ConLw  SaleType_New  \\\n0          2003       196.0         706  ...             0.0           0.0   \n1          1976         0.0         978  ...             0.0           0.0   \n2          2002       162.0         486  ...             0.0           0.0   \n3          1970         0.0         216  ...             0.0           0.0   \n4          2000       350.0         655  ...             0.0           0.0   \n\n   SaleType_Oth  SaleType_WD  SaleCondition_Abnorml  SaleCondition_AdjLand  \\\n0           0.0          1.0                    0.0                    0.0   \n1           0.0          1.0                    0.0                    0.0   \n2           0.0          1.0                    0.0                    0.0   \n3           0.0          1.0                    1.0                    0.0   \n4           0.0          1.0                    0.0                    0.0   \n\n   SaleCondition_Alloca  SaleCondition_Family  SaleCondition_Normal  \\\n0                   0.0                   0.0                   1.0   \n1                   0.0                   0.0                   1.0   \n2                   0.0                   0.0                   1.0   \n3                   0.0                   0.0                   0.0   \n4                   0.0                   0.0                   1.0   \n\n   SaleCondition_Partial  \n0                    0.0  \n1                    0.0  \n2                    0.0  \n3                    0.0  \n4                    0.0  \n\n[5 rows x 306 columns]",
      "text/html": "<div>\n<style scoped>\n    .dataframe tbody tr th:only-of-type {\n        vertical-align: middle;\n    }\n\n    .dataframe tbody tr th {\n        vertical-align: top;\n    }\n\n    .dataframe thead th {\n        text-align: right;\n    }\n</style>\n<table border=\"1\" class=\"dataframe\">\n  <thead>\n    <tr style=\"text-align: right;\">\n      <th></th>\n      <th>Id</th>\n      <th>MSSubClass</th>\n      <th>LotFrontage</th>\n      <th>LotArea</th>\n      <th>OverallQual</th>\n      <th>OverallCond</th>\n      <th>YearBuilt</th>\n      <th>YearRemodAdd</th>\n      <th>MasVnrArea</th>\n      <th>BsmtFinSF1</th>\n      <th>...</th>\n      <th>SaleType_ConLw</th>\n      <th>SaleType_New</th>\n      <th>SaleType_Oth</th>\n      <th>SaleType_WD</th>\n      <th>SaleCondition_Abnorml</th>\n      <th>SaleCondition_AdjLand</th>\n      <th>SaleCondition_Alloca</th>\n      <th>SaleCondition_Family</th>\n      <th>SaleCondition_Normal</th>\n      <th>SaleCondition_Partial</th>\n    </tr>\n  </thead>\n  <tbody>\n    <tr>\n      <th>0</th>\n      <td>1</td>\n      <td>60</td>\n      <td>65.0</td>\n      <td>8450</td>\n      <td>7</td>\n      <td>5</td>\n      <td>2003</td>\n      <td>2003</td>\n      <td>196.0</td>\n      <td>706</td>\n      <td>...</td>\n      <td>0.0</td>\n      <td>0.0</td>\n      <td>0.0</td>\n      <td>1.0</td>\n      <td>0.0</td>\n      <td>0.0</td>\n      <td>0.0</td>\n      <td>0.0</td>\n      <td>1.0</td>\n      <td>0.0</td>\n    </tr>\n    <tr>\n      <th>1</th>\n      <td>2</td>\n      <td>20</td>\n      <td>80.0</td>\n      <td>9600</td>\n      <td>6</td>\n      <td>8</td>\n      <td>1976</td>\n      <td>1976</td>\n      <td>0.0</td>\n      <td>978</td>\n      <td>...</td>\n      <td>0.0</td>\n      <td>0.0</td>\n      <td>0.0</td>\n      <td>1.0</td>\n      <td>0.0</td>\n      <td>0.0</td>\n      <td>0.0</td>\n      <td>0.0</td>\n      <td>1.0</td>\n      <td>0.0</td>\n    </tr>\n    <tr>\n      <th>2</th>\n      <td>3</td>\n      <td>60</td>\n      <td>68.0</td>\n      <td>11250</td>\n      <td>7</td>\n      <td>5</td>\n      <td>2001</td>\n      <td>2002</td>\n      <td>162.0</td>\n      <td>486</td>\n      <td>...</td>\n      <td>0.0</td>\n      <td>0.0</td>\n      <td>0.0</td>\n      <td>1.0</td>\n      <td>0.0</td>\n      <td>0.0</td>\n      <td>0.0</td>\n      <td>0.0</td>\n      <td>1.0</td>\n      <td>0.0</td>\n    </tr>\n    <tr>\n      <th>3</th>\n      <td>4</td>\n      <td>70</td>\n      <td>60.0</td>\n      <td>9550</td>\n      <td>7</td>\n      <td>5</td>\n      <td>1915</td>\n      <td>1970</td>\n      <td>0.0</td>\n      <td>216</td>\n      <td>...</td>\n      <td>0.0</td>\n      <td>0.0</td>\n      <td>0.0</td>\n      <td>1.0</td>\n      <td>1.0</td>\n      <td>0.0</td>\n      <td>0.0</td>\n      <td>0.0</td>\n      <td>0.0</td>\n      <td>0.0</td>\n    </tr>\n    <tr>\n      <th>4</th>\n      <td>5</td>\n      <td>60</td>\n      <td>84.0</td>\n      <td>14260</td>\n      <td>8</td>\n      <td>5</td>\n      <td>2000</td>\n      <td>2000</td>\n      <td>350.0</td>\n      <td>655</td>\n      <td>...</td>\n      <td>0.0</td>\n      <td>0.0</td>\n      <td>0.0</td>\n      <td>1.0</td>\n      <td>0.0</td>\n      <td>0.0</td>\n      <td>0.0</td>\n      <td>0.0</td>\n      <td>1.0</td>\n      <td>0.0</td>\n    </tr>\n  </tbody>\n</table>\n<p>5 rows × 306 columns</p>\n</div>"
     },
     "execution_count": 3,
     "metadata": {},
     "output_type": "execute_result"
    }
   ],
   "source": [
    "path = r\"./\"\n",
    "data_generator = transform_data(path = path + 'train.csv')\n",
    "data = data_generator.get_data(train_or_analysis = 'train')\n",
    "data.head()"
   ],
   "metadata": {
    "collapsed": false,
    "pycharm": {
     "name": "#%%\n"
    }
   }
  },
  {
   "cell_type": "code",
   "execution_count": 4,
   "outputs": [
    {
     "data": {
      "text/plain": "<Figure size 500x500 with 1 Axes>",
      "image/png": "[encoded data removed]"
     },
     "metadata": {},
     "output_type": "display_data"
    }
   ],
   "source": [
    "data = data.loc[data['SalePrice'] <= np.quantile(data['SalePrice'], 0.99)].copy()\n",
    "sns.displot(data.SalePrice, kde = True);"
   ],
   "metadata": {
    "collapsed": false,
    "pycharm": {
     "name": "#%%\n"
    }
   }
  },
  {
   "cell_type": "code",
   "execution_count": 5,
   "outputs": [],
   "source": [
    "from xgboost import XGBRegressor\n",
    "from sklearn.model_selection import train_test_split, cross_val_score\n",
    "\n",
    "\n",
    "params = {'lambda': 3.792404253903758, 'alpha': 3.720406654006611, 'colsample_bytree': 0.4, 'subsample': 0.8, 'learning_rate': 0.027569142191457396, 'max_depth': 7, 'random_state': 1, 'min_child_weight': 26}\n",
    "params2 = {'lambda': 5.08745375747522, 'alpha': 1.3840557746026854, 'colsample_bytree': 0.3, 'subsample': 0.7, 'learning_rate': 0.0705794117436359, 'max_depth': 5, 'random_state': 1, 'min_child_weight': 9}\n",
    "x = data.drop('SalePrice', axis = 1)\n",
    "y = data['SalePrice']\n",
    "\n",
    "x_train, x_test, y_train, y_test = train_test_split(x, y, train_size = 0.3, random_state=1)\n",
    "reg = XGBRegressor(eval_metric= 'rmse', n_estimators = 1433, **params2)#, early_stopping_rounds = 50, **params)\n",
    "reg.fit(x_train, y_train,\n",
    "        #eval_set=[(x_train, y_train), (x_test, y_test)],\n",
    "        verbose=100)\n",
    "y_pred = reg.predict(x_test)"
   ],
   "metadata": {
    "collapsed": false,
    "pycharm": {
     "name": "#%%\n"
    }
   }
  },
  {
   "cell_type": "code",
   "execution_count": 6,
   "outputs": [
    {
     "name": "stdout",
     "output_type": "stream",
     "text": [
      "---------test------------\n",
      "R²: 0.87\n",
      "MSE: 648080473.60\n",
      "RMSE: 25457.4247\n",
      "MAPE: 9.55%\n"
     ]
    }
   ],
   "source": [
    "from sklearn.metrics import mean_squared_error, mean_absolute_percentage_error, r2_score\n",
    "\n",
    "mse = mean_squared_error(y_test, y_pred)\n",
    "mape = mean_absolute_percentage_error(y_test, y_pred)\n",
    "r2 = r2_score(y_test, y_pred)\n",
    "\n",
    "print('---------test------------')\n",
    "print(\"R²: %.2f\" % r2)\n",
    "print(\"MSE: %.2f\" % mse)\n",
    "print(\"RMSE: %.4f\" % np.sqrt(mse))\n",
    "print(\"MAPE: %.2f\" % (mape * 100) + '%')"
   ],
   "metadata": {
    "collapsed": false,
    "pycharm": {
     "name": "#%%\n"
    }
   }
  },
  {
   "cell_type": "code",
   "execution_count": 7,
   "outputs": [
    {
     "data": {
      "text/plain": "-23262.555467047936"
     },
     "execution_count": 7,
     "metadata": {},
     "output_type": "execute_result"
    }
   ],
   "source": [
    "tests = cross_val_score(reg, x_test, y_test, cv = 5, n_jobs = -1,scoring = 'neg_root_mean_squared_error')\n",
    "np.mean(tests)"
   ],
   "metadata": {
    "collapsed": false,
    "pycharm": {
     "name": "#%%\n"
    }
   }
  },
  {
   "cell_type": "code",
   "execution_count": 8,
   "outputs": [
    {
     "data": {
      "text/plain": "                     feature_importances\nKitchenAbvGr                    0.141393\nOverallQual                     0.105729\nKitchenQual_TA                  0.058801\nGarageCars                      0.056945\nBldgType_Duplex                 0.045791\n...                                  ...\nExterCond_Po                    0.000000\nFoundation_Slab                 0.000000\nFoundation_Stone                0.000000\nFoundation_Wood                 0.000000\nExterior2nd_BrkFace             0.000000\n\n[305 rows x 1 columns]",
      "text/html": "<div>\n<style scoped>\n    .dataframe tbody tr th:only-of-type {\n        vertical-align: middle;\n    }\n\n    .dataframe tbody tr th {\n        vertical-align: top;\n    }\n\n    .dataframe thead th {\n        text-align: right;\n    }\n</style>\n<table border=\"1\" class=\"dataframe\">\n  <thead>\n    <tr style=\"text-align: right;\">\n      <th></th>\n      <th>feature_importances</th>\n    </tr>\n  </thead>\n  <tbody>\n    <tr>\n      <th>KitchenAbvGr</th>\n      <td>0.141393</td>\n    </tr>\n    <tr>\n      <th>OverallQual</th>\n      <td>0.105729</td>\n    </tr>\n    <tr>\n      <th>KitchenQual_TA</th>\n      <td>0.058801</td>\n    </tr>\n    <tr>\n      <th>GarageCars</th>\n      <td>0.056945</td>\n    </tr>\n    <tr>\n      <th>BldgType_Duplex</th>\n      <td>0.045791</td>\n    </tr>\n    <tr>\n      <th>...</th>\n      <td>...</td>\n    </tr>\n    <tr>\n      <th>ExterCond_Po</th>\n      <td>0.000000</td>\n    </tr>\n    <tr>\n      <th>Foundation_Slab</th>\n      <td>0.000000</td>\n    </tr>\n    <tr>\n      <th>Foundation_Stone</th>\n      <td>0.000000</td>\n    </tr>\n    <tr>\n      <th>Foundation_Wood</th>\n      <td>0.000000</td>\n    </tr>\n    <tr>\n      <th>Exterior2nd_BrkFace</th>\n      <td>0.000000</td>\n    </tr>\n  </tbody>\n</table>\n<p>305 rows × 1 columns</p>\n</div>"
     },
     "execution_count": 8,
     "metadata": {},
     "output_type": "execute_result"
    }
   ],
   "source": [
    "importances = pd.DataFrame(columns = ['feature_importances'], data = reg.feature_importances_, index = reg.feature_names_in_).sort_values(by = 'feature_importances', ascending = False)\n",
    "\n",
    "\n",
    "zero_importance= list(importances.loc[importances['feature_importances'] == 0].reset_index()['index'])\n",
    "importances"
   ],
   "metadata": {
    "collapsed": false,
    "pycharm": {
     "name": "#%%\n"
    }
   }
  },
  {
   "cell_type": "code",
   "execution_count": 9,
   "outputs": [],
   "source": [
    "from xgboost import XGBRegressor\n",
    "from sklearn.model_selection import train_test_split, cross_val_score\n",
    "from sklearn.linear_model import LinearRegression\n",
    "\n",
    "params = {'lambda': 3.792404253903758, 'alpha': 3.720406654006611, 'colsample_bytree': 0.4, 'subsample': 0.8, 'learning_rate': 0.027569142191457396, 'max_depth': 7, 'random_state': 1, 'min_child_weight': 26}\n",
    "params2 = {'lambda': 5.08745375747522, 'alpha': 1.3840557746026854, 'colsample_bytree': 0.3, 'subsample': 0.7, 'learning_rate': 0.0705794117436359, 'max_depth': 5, 'random_state': 1, 'min_child_weight': 9}\n",
    "x = data.drop('SalePrice', axis = 1)\n",
    "x = x.drop(zero_importance, axis = 1)\n",
    "y = data['SalePrice']\n",
    "x_train, x_test, y_train, y_test = train_test_split(x, y, train_size = 0.3, random_state=1)\n",
    "reg = XGBRegressor(eval_metric= 'rmse', n_estimators = 1433, **params2)#, early_stopping_rounds = 50, **params)\n",
    "reg.fit(x, y,\n",
    "        #eval_set=[(x_train, y_train), (x_test, y_test)],\n",
    "        verbose=100)\n",
    "y_pred = reg.predict(x_test)"
   ],
   "metadata": {
    "collapsed": false,
    "pycharm": {
     "name": "#%%\n"
    }
   }
  },
  {
   "cell_type": "code",
   "execution_count": 10,
   "outputs": [],
   "source": [
    "def objective(trial):\n",
    "    x = data.drop('SalePrice', axis = 1)\n",
    "    y = data['SalePrice']\n",
    "\n",
    "    x_train, x_test, y_train, y_test = train_test_split(x, y, train_size = 0.3, random_state=1)\n",
    "    param = {\n",
    "        'lambda': trial.suggest_float('lambda', 1e-3, 10.0),\n",
    "        'alpha': trial.suggest_float('alpha', 1e-3, 10.0),\n",
    "        'colsample_bytree': trial.suggest_categorical('colsample_bytree', [0.3,0.4,0.5,0.6,0.7,0.8,0.9, 1.0]),\n",
    "        'subsample': trial.suggest_categorical('subsample', [0.4,0.5,0.6,0.7,0.8,1.0]),\n",
    "        'learning_rate': trial.suggest_float('learning_rate', 1e-3, 1e-1),\n",
    "        'n_estimators': 10000,\n",
    "        'max_depth': trial.suggest_categorical('max_depth', [5,7,9,11,13,15,17]),\n",
    "        'random_state': trial.suggest_categorical('random_state', [1]),\n",
    "        'min_child_weight': trial.suggest_int('min_child_weight', 1, 300),\n",
    "    }\n",
    "    model = XGBRegressor(**param, eval_metric= 'rmse')\n",
    "    model.fit(x_train,y_train,eval_set=[(x_train, y_train), (x_test, y_test)],verbose=False)\n",
    "    preds = model.predict(x_test)\n",
    "    tests = cross_val_score(model, x_test, y_test, cv = 5, n_jobs = -1,scoring = 'neg_root_mean_squared_error')\n",
    "    return np.mean(tests)"
   ],
   "metadata": {
    "collapsed": false,
    "pycharm": {
     "name": "#%%\n"
    }
   }
  },
  {
   "cell_type": "code",
   "execution_count": 11,
   "outputs": [
    {
     "data": {
      "text/plain": "      MSSubClass  LotFrontage  LotArea  OverallQual  OverallCond  YearBuilt  \\\nId                                                                            \n1461          20         80.0    11622            5            6       1961   \n1462          20         81.0    14267            6            6       1958   \n1463          60         74.0    13830            5            5       1997   \n1464          60         78.0     9978            6            6       1998   \n1465         120         43.0     5005            8            5       1992   \n\n      YearRemodAdd  MasVnrArea  BsmtFinSF1  BsmtFinSF2  ...  SaleType_New  \\\nId                                                      ...                 \n1461          1961         0.0       468.0       144.0  ...           0.0   \n1462          1958       108.0       923.0         0.0  ...           0.0   \n1463          1998         0.0       791.0         0.0  ...           0.0   \n1464          1998        20.0       602.0         0.0  ...           0.0   \n1465          1992         0.0       263.0         0.0  ...           0.0   \n\n      SaleType_Oth  SaleType_WD  SaleType_nan  SaleCondition_Abnorml  \\\nId                                                                     \n1461           0.0          1.0           0.0                    0.0   \n1462           0.0          1.0           0.0                    0.0   \n1463           0.0          1.0           0.0                    0.0   \n1464           0.0          1.0           0.0                    0.0   \n1465           0.0          1.0           0.0                    0.0   \n\n      SaleCondition_AdjLand  SaleCondition_Alloca  SaleCondition_Family  \\\nId                                                                        \n1461                    0.0                   0.0                   0.0   \n1462                    0.0                   0.0                   0.0   \n1463                    0.0                   0.0                   0.0   \n1464                    0.0                   0.0                   0.0   \n1465                    0.0                   0.0                   0.0   \n\n      SaleCondition_Normal  SaleCondition_Partial  \nId                                                 \n1461                   1.0                    0.0  \n1462                   1.0                    0.0  \n1463                   1.0                    0.0  \n1464                   1.0                    0.0  \n1465                   1.0                    0.0  \n\n[5 rows x 292 columns]",
      "text/html": "<div>\n<style scoped>\n    .dataframe tbody tr th:only-of-type {\n        vertical-align: middle;\n    }\n\n    .dataframe tbody tr th {\n        vertical-align: top;\n    }\n\n    .dataframe thead th {\n        text-align: right;\n    }\n</style>\n<table border=\"1\" class=\"dataframe\">\n  <thead>\n    <tr style=\"text-align: right;\">\n      <th></th>\n      <th>MSSubClass</th>\n      <th>LotFrontage</th>\n      <th>LotArea</th>\n      <th>OverallQual</th>\n      <th>OverallCond</th>\n      <th>YearBuilt</th>\n      <th>YearRemodAdd</th>\n      <th>MasVnrArea</th>\n      <th>BsmtFinSF1</th>\n      <th>BsmtFinSF2</th>\n      <th>...</th>\n      <th>SaleType_New</th>\n      <th>SaleType_Oth</th>\n      <th>SaleType_WD</th>\n      <th>SaleType_nan</th>\n      <th>SaleCondition_Abnorml</th>\n      <th>SaleCondition_AdjLand</th>\n      <th>SaleCondition_Alloca</th>\n      <th>SaleCondition_Family</th>\n      <th>SaleCondition_Normal</th>\n      <th>SaleCondition_Partial</th>\n    </tr>\n    <tr>\n      <th>Id</th>\n      <th></th>\n      <th></th>\n      <th></th>\n      <th></th>\n      <th></th>\n      <th></th>\n      <th></th>\n      <th></th>\n      <th></th>\n      <th></th>\n      <th></th>\n      <th></th>\n      <th></th>\n      <th></th>\n      <th></th>\n      <th></th>\n      <th></th>\n      <th></th>\n      <th></th>\n      <th></th>\n      <th></th>\n    </tr>\n  </thead>\n  <tbody>\n    <tr>\n      <th>1461</th>\n      <td>20</td>\n      <td>80.0</td>\n      <td>11622</td>\n      <td>5</td>\n      <td>6</td>\n      <td>1961</td>\n      <td>1961</td>\n      <td>0.0</td>\n      <td>468.0</td>\n      <td>144.0</td>\n      <td>...</td>\n      <td>0.0</td>\n      <td>0.0</td>\n      <td>1.0</td>\n      <td>0.0</td>\n      <td>0.0</td>\n      <td>0.0</td>\n      <td>0.0</td>\n      <td>0.0</td>\n      <td>1.0</td>\n      <td>0.0</td>\n    </tr>\n    <tr>\n      <th>1462</th>\n      <td>20</td>\n      <td>81.0</td>\n      <td>14267</td>\n      <td>6</td>\n      <td>6</td>\n      <td>1958</td>\n      <td>1958</td>\n      <td>108.0</td>\n      <td>923.0</td>\n      <td>0.0</td>\n      <td>...</td>\n      <td>0.0</td>\n      <td>0.0</td>\n      <td>1.0</td>\n      <td>0.0</td>\n      <td>0.0</td>\n      <td>0.0</td>\n      <td>0.0</td>\n      <td>0.0</td>\n      <td>1.0</td>\n      <td>0.0</td>\n    </tr>\n    <tr>\n      <th>1463</th>\n      <td>60</td>\n      <td>74.0</td>\n      <td>13830</td>\n      <td>5</td>\n      <td>5</td>\n      <td>1997</td>\n      <td>1998</td>\n      <td>0.0</td>\n      <td>791.0</td>\n      <td>0.0</td>\n      <td>...</td>\n      <td>0.0</td>\n      <td>0.0</td>\n      <td>1.0</td>\n      <td>0.0</td>\n      <td>0.0</td>\n      <td>0.0</td>\n      <td>0.0</td>\n      <td>0.0</td>\n      <td>1.0</td>\n      <td>0.0</td>\n    </tr>\n    <tr>\n      <th>1464</th>\n      <td>60</td>\n      <td>78.0</td>\n      <td>9978</td>\n      <td>6</td>\n      <td>6</td>\n      <td>1998</td>\n      <td>1998</td>\n      <td>20.0</td>\n      <td>602.0</td>\n      <td>0.0</td>\n      <td>...</td>\n      <td>0.0</td>\n      <td>0.0</td>\n      <td>1.0</td>\n      <td>0.0</td>\n      <td>0.0</td>\n      <td>0.0</td>\n      <td>0.0</td>\n      <td>0.0</td>\n      <td>1.0</td>\n      <td>0.0</td>\n    </tr>\n    <tr>\n      <th>1465</th>\n      <td>120</td>\n      <td>43.0</td>\n      <td>5005</td>\n      <td>8</td>\n      <td>5</td>\n      <td>1992</td>\n      <td>1992</td>\n      <td>0.0</td>\n      <td>263.0</td>\n      <td>0.0</td>\n      <td>...</td>\n      <td>0.0</td>\n      <td>0.0</td>\n      <td>1.0</td>\n      <td>0.0</td>\n      <td>0.0</td>\n      <td>0.0</td>\n      <td>0.0</td>\n      <td>0.0</td>\n      <td>1.0</td>\n      <td>0.0</td>\n    </tr>\n  </tbody>\n</table>\n<p>5 rows × 292 columns</p>\n</div>"
     },
     "execution_count": 11,
     "metadata": {},
     "output_type": "execute_result"
    }
   ],
   "source": [
    "data_generator = transform_data(path = path + 'test.csv')\n",
    "test = data_generator.get_data(train_or_analysis = 'train')\n",
    "test = test.set_index('Id')\n",
    "test.head()"
   ],
   "metadata": {
    "collapsed": false,
    "pycharm": {
     "name": "#%%\n"
    }
   }
  },
  {
   "cell_type": "code",
   "execution_count": 15,
   "outputs": [
    {
     "name": "stderr",
     "output_type": "stream",
     "text": [
      "C:\\Users\\sunio\\AppData\\Local\\Temp\\ipykernel_6732\\2491686931.py:5: RuntimeWarning: overflow encountered in exp\n",
      "  preds = np.exp(reg.predict(test))\n"
     ]
    },
    {
     "data": {
      "text/plain": "        Id  MSSubClass  LotFrontage  LotArea  OverallQual  OverallCond  \\\n0     1461          20         80.0    11622            5            6   \n1     1462          20         81.0    14267            6            6   \n2     1463          60         74.0    13830            5            5   \n3     1464          60         78.0     9978            6            6   \n4     1465         120         43.0     5005            8            5   \n...    ...         ...          ...      ...          ...          ...   \n1454  2915         160         21.0     1936            4            7   \n1455  2916         160         21.0     1894            4            5   \n1456  2917          20        160.0    20000            5            7   \n1457  2918          85         62.0    10441            5            5   \n1458  2919          60         74.0     9627            7            5   \n\n      YearBuilt  YearRemodAdd  MasVnrArea  BsmtFinSF1  ...  Fence_GdPrv  \\\n0          1961          1961         0.0       468.0  ...          0.0   \n1          1958          1958       108.0       923.0  ...          0.0   \n2          1997          1998         0.0       791.0  ...          0.0   \n3          1998          1998        20.0       602.0  ...          0.0   \n4          1992          1992         0.0       263.0  ...          0.0   \n...         ...           ...         ...         ...  ...          ...   \n1454       1970          1970         0.0         0.0  ...          0.0   \n1455       1970          1970         0.0       252.0  ...          0.0   \n1456       1960          1996         0.0      1224.0  ...          0.0   \n1457       1992          1992         0.0       337.0  ...          0.0   \n1458       1993          1994        94.0       758.0  ...          0.0   \n\n      Fence_GdWo  Fence_MnPrv  Fence_No Fence  MiscFeature_No Misc  \\\n0            0.0          1.0             0.0                  1.0   \n1            0.0          0.0             1.0                  0.0   \n2            0.0          1.0             0.0                  1.0   \n3            0.0          0.0             1.0                  1.0   \n4            0.0          0.0             1.0                  1.0   \n...          ...          ...             ...                  ...   \n1454         0.0          0.0             1.0                  1.0   \n1455         0.0          0.0             1.0                  1.0   \n1456         0.0          0.0             1.0                  1.0   \n1457         0.0          1.0             0.0                  0.0   \n1458         0.0          0.0             1.0                  1.0   \n\n      SaleType_New  SaleType_WD  SaleCondition_Abnorml  SaleCondition_Normal  \\\n0              0.0          1.0                    0.0                   1.0   \n1              0.0          1.0                    0.0                   1.0   \n2              0.0          1.0                    0.0                   1.0   \n3              0.0          1.0                    0.0                   1.0   \n4              0.0          1.0                    0.0                   1.0   \n...            ...          ...                    ...                   ...   \n1454           0.0          1.0                    0.0                   1.0   \n1455           0.0          1.0                    1.0                   0.0   \n1456           0.0          1.0                    1.0                   0.0   \n1457           0.0          1.0                    0.0                   1.0   \n1458           0.0          1.0                    0.0                   1.0   \n\n      SaleCondition_Partial  \n0                       0.0  \n1                       0.0  \n2                       0.0  \n3                       0.0  \n4                       0.0  \n...                     ...  \n1454                    0.0  \n1455                    0.0  \n1456                    0.0  \n1457                    0.0  \n1458                    0.0  \n\n[1459 rows x 163 columns]",
      "text/html": "<div>\n<style scoped>\n    .dataframe tbody tr th:only-of-type {\n        vertical-align: middle;\n    }\n\n    .dataframe tbody tr th {\n        vertical-align: top;\n    }\n\n    .dataframe thead th {\n        text-align: right;\n    }\n</style>\n<table border=\"1\" class=\"dataframe\">\n  <thead>\n    <tr style=\"text-align: right;\">\n      <th></th>\n      <th>Id</th>\n      <th>MSSubClass</th>\n      <th>LotFrontage</th>\n      <th>LotArea</th>\n      <th>OverallQual</th>\n      <th>OverallCond</th>\n      <th>YearBuilt</th>\n      <th>YearRemodAdd</th>\n      <th>MasVnrArea</th>\n      <th>BsmtFinSF1</th>\n      <th>...</th>\n      <th>Fence_GdPrv</th>\n      <th>Fence_GdWo</th>\n      <th>Fence_MnPrv</th>\n      <th>Fence_No Fence</th>\n      <th>MiscFeature_No Misc</th>\n      <th>SaleType_New</th>\n      <th>SaleType_WD</th>\n      <th>SaleCondition_Abnorml</th>\n      <th>SaleCondition_Normal</th>\n      <th>SaleCondition_Partial</th>\n    </tr>\n  </thead>\n  <tbody>\n    <tr>\n      <th>0</th>\n      <td>1461</td>\n      <td>20</td>\n      <td>80.0</td>\n      <td>11622</td>\n      <td>5</td>\n      <td>6</td>\n      <td>1961</td>\n      <td>1961</td>\n      <td>0.0</td>\n      <td>468.0</td>\n      <td>...</td>\n      <td>0.0</td>\n      <td>0.0</td>\n      <td>1.0</td>\n      <td>0.0</td>\n      <td>1.0</td>\n      <td>0.0</td>\n      <td>1.0</td>\n      <td>0.0</td>\n      <td>1.0</td>\n      <td>0.0</td>\n    </tr>\n    <tr>\n      <th>1</th>\n      <td>1462</td>\n      <td>20</td>\n      <td>81.0</td>\n      <td>14267</td>\n      <td>6</td>\n      <td>6</td>\n      <td>1958</td>\n      <td>1958</td>\n      <td>108.0</td>\n      <td>923.0</td>\n      <td>...</td>\n      <td>0.0</td>\n      <td>0.0</td>\n      <td>0.0</td>\n      <td>1.0</td>\n      <td>0.0</td>\n      <td>0.0</td>\n      <td>1.0</td>\n      <td>0.0</td>\n      <td>1.0</td>\n      <td>0.0</td>\n    </tr>\n    <tr>\n      <th>2</th>\n      <td>1463</td>\n      <td>60</td>\n      <td>74.0</td>\n      <td>13830</td>\n      <td>5</td>\n      <td>5</td>\n      <td>1997</td>\n      <td>1998</td>\n      <td>0.0</td>\n      <td>791.0</td>\n      <td>...</td>\n      <td>0.0</td>\n      <td>0.0</td>\n      <td>1.0</td>\n      <td>0.0</td>\n      <td>1.0</td>\n      <td>0.0</td>\n      <td>1.0</td>\n      <td>0.0</td>\n      <td>1.0</td>\n      <td>0.0</td>\n    </tr>\n    <tr>\n      <th>3</th>\n      <td>1464</td>\n      <td>60</td>\n      <td>78.0</td>\n      <td>9978</td>\n      <td>6</td>\n      <td>6</td>\n      <td>1998</td>\n      <td>1998</td>\n      <td>20.0</td>\n      <td>602.0</td>\n      <td>...</td>\n      <td>0.0</td>\n      <td>0.0</td>\n      <td>0.0</td>\n      <td>1.0</td>\n      <td>1.0</td>\n      <td>0.0</td>\n      <td>1.0</td>\n      <td>0.0</td>\n      <td>1.0</td>\n      <td>0.0</td>\n    </tr>\n    <tr>\n      <th>4</th>\n      <td>1465</td>\n      <td>120</td>\n      <td>43.0</td>\n      <td>5005</td>\n      <td>8</td>\n      <td>5</td>\n      <td>1992</td>\n      <td>1992</td>\n      <td>0.0</td>\n      <td>263.0</td>\n      <td>...</td>\n      <td>0.0</td>\n      <td>0.0</td>\n      <td>0.0</td>\n      <td>1.0</td>\n      <td>1.0</td>\n      <td>0.0</td>\n      <td>1.0</td>\n      <td>0.0</td>\n      <td>1.0</td>\n      <td>0.0</td>\n    </tr>\n    <tr>\n      <th>...</th>\n      <td>...</td>\n      <td>...</td>\n      <td>...</td>\n      <td>...</td>\n      <td>...</td>\n      <td>...</td>\n      <td>...</td>\n      <td>...</td>\n      <td>...</td>\n      <td>...</td>\n      <td>...</td>\n      <td>...</td>\n      <td>...</td>\n      <td>...</td>\n      <td>...</td>\n      <td>...</td>\n      <td>...</td>\n      <td>...</td>\n      <td>...</td>\n      <td>...</td>\n      <td>...</td>\n    </tr>\n    <tr>\n      <th>1454</th>\n      <td>2915</td>\n      <td>160</td>\n      <td>21.0</td>\n      <td>1936</td>\n      <td>4</td>\n      <td>7</td>\n      <td>1970</td>\n      <td>1970</td>\n      <td>0.0</td>\n      <td>0.0</td>\n      <td>...</td>\n      <td>0.0</td>\n      <td>0.0</td>\n      <td>0.0</td>\n      <td>1.0</td>\n      <td>1.0</td>\n      <td>0.0</td>\n      <td>1.0</td>\n      <td>0.0</td>\n      <td>1.0</td>\n      <td>0.0</td>\n    </tr>\n    <tr>\n      <th>1455</th>\n      <td>2916</td>\n      <td>160</td>\n      <td>21.0</td>\n      <td>1894</td>\n      <td>4</td>\n      <td>5</td>\n      <td>1970</td>\n      <td>1970</td>\n      <td>0.0</td>\n      <td>252.0</td>\n      <td>...</td>\n      <td>0.0</td>\n      <td>0.0</td>\n      <td>0.0</td>\n      <td>1.0</td>\n      <td>1.0</td>\n      <td>0.0</td>\n      <td>1.0</td>\n      <td>1.0</td>\n      <td>0.0</td>\n      <td>0.0</td>\n    </tr>\n    <tr>\n      <th>1456</th>\n      <td>2917</td>\n      <td>20</td>\n      <td>160.0</td>\n      <td>20000</td>\n      <td>5</td>\n      <td>7</td>\n      <td>1960</td>\n      <td>1996</td>\n      <td>0.0</td>\n      <td>1224.0</td>\n      <td>...</td>\n      <td>0.0</td>\n      <td>0.0</td>\n      <td>0.0</td>\n      <td>1.0</td>\n      <td>1.0</td>\n      <td>0.0</td>\n      <td>1.0</td>\n      <td>1.0</td>\n      <td>0.0</td>\n      <td>0.0</td>\n    </tr>\n    <tr>\n      <th>1457</th>\n      <td>2918</td>\n      <td>85</td>\n      <td>62.0</td>\n      <td>10441</td>\n      <td>5</td>\n      <td>5</td>\n      <td>1992</td>\n      <td>1992</td>\n      <td>0.0</td>\n      <td>337.0</td>\n      <td>...</td>\n      <td>0.0</td>\n      <td>0.0</td>\n      <td>1.0</td>\n      <td>0.0</td>\n      <td>0.0</td>\n      <td>0.0</td>\n      <td>1.0</td>\n      <td>0.0</td>\n      <td>1.0</td>\n      <td>0.0</td>\n    </tr>\n    <tr>\n      <th>1458</th>\n      <td>2919</td>\n      <td>60</td>\n      <td>74.0</td>\n      <td>9627</td>\n      <td>7</td>\n      <td>5</td>\n      <td>1993</td>\n      <td>1994</td>\n      <td>94.0</td>\n      <td>758.0</td>\n      <td>...</td>\n      <td>0.0</td>\n      <td>0.0</td>\n      <td>0.0</td>\n      <td>1.0</td>\n      <td>1.0</td>\n      <td>0.0</td>\n      <td>1.0</td>\n      <td>0.0</td>\n      <td>1.0</td>\n      <td>0.0</td>\n    </tr>\n  </tbody>\n</table>\n<p>1459 rows × 163 columns</p>\n</div>"
     },
     "execution_count": 15,
     "metadata": {},
     "output_type": "execute_result"
    }
   ],
   "source": [
    "missing_columns = [i for i in x.columns if i not in test.columns]\n",
    "for i in missing_columns:\n",
    "    test[i] = 0\n",
    "test = test[x.columns]\n",
    "preds = np.exp(reg.predict(test))\n",
    "test.drop('Id', axis = 1).reset_index()"
   ],
   "metadata": {
    "collapsed": false,
    "pycharm": {
     "name": "#%%\n"
    }
   }
  },
  {
   "cell_type": "code",
   "execution_count": 16,
   "outputs": [
    {
     "data": {
      "text/plain": "array([inf, inf, inf, ..., inf, inf, inf], dtype=float32)"
     },
     "execution_count": 16,
     "metadata": {},
     "output_type": "execute_result"
    }
   ],
   "source": [
    "preds"
   ],
   "metadata": {
    "collapsed": false,
    "pycharm": {
     "name": "#%%\n"
    }
   }
  },
  {
   "cell_type": "code",
   "execution_count": 13,
   "outputs": [
    {
     "data": {
      "text/plain": "        Id  SalePrice\n0     1461        inf\n1     1462        inf\n2     1463        inf\n3     1464        inf\n4     1465        inf\n...    ...        ...\n1454  2915        inf\n1455  2916        inf\n1456  2917        inf\n1457  2918        inf\n1458  2919        inf\n\n[1459 rows x 2 columns]",
      "text/html": "<div>\n<style scoped>\n    .dataframe tbody tr th:only-of-type {\n        vertical-align: middle;\n    }\n\n    .dataframe tbody tr th {\n        vertical-align: top;\n    }\n\n    .dataframe thead th {\n        text-align: right;\n    }\n</style>\n<table border=\"1\" class=\"dataframe\">\n  <thead>\n    <tr style=\"text-align: right;\">\n      <th></th>\n      <th>Id</th>\n      <th>SalePrice</th>\n    </tr>\n  </thead>\n  <tbody>\n    <tr>\n      <th>0</th>\n      <td>1461</td>\n      <td>inf</td>\n    </tr>\n    <tr>\n      <th>1</th>\n      <td>1462</td>\n      <td>inf</td>\n    </tr>\n    <tr>\n      <th>2</th>\n      <td>1463</td>\n      <td>inf</td>\n    </tr>\n    <tr>\n      <th>3</th>\n      <td>1464</td>\n      <td>inf</td>\n    </tr>\n    <tr>\n      <th>4</th>\n      <td>1465</td>\n      <td>inf</td>\n    </tr>\n    <tr>\n      <th>...</th>\n      <td>...</td>\n      <td>...</td>\n    </tr>\n    <tr>\n      <th>1454</th>\n      <td>2915</td>\n      <td>inf</td>\n    </tr>\n    <tr>\n      <th>1455</th>\n      <td>2916</td>\n      <td>inf</td>\n    </tr>\n    <tr>\n      <th>1456</th>\n      <td>2917</td>\n      <td>inf</td>\n    </tr>\n    <tr>\n      <th>1457</th>\n      <td>2918</td>\n      <td>inf</td>\n    </tr>\n    <tr>\n      <th>1458</th>\n      <td>2919</td>\n      <td>inf</td>\n    </tr>\n  </tbody>\n</table>\n<p>1459 rows × 2 columns</p>\n</div>"
     },
     "execution_count": 13,
     "metadata": {},
     "output_type": "execute_result"
    }
   ],
   "source": [
    "output = pd.DataFrame({'Id': test.drop('Id', axis = 1).reset_index()['Id'],\n",
    "                       'SalePrice': preds})\n",
    "outpu = output.round(2)\n",
    "output"
   ],
   "metadata": {
    "collapsed": false,
    "pycharm": {
     "name": "#%%\n"
    }
   }
  },
  {
   "cell_type": "code",
   "execution_count": 14,
   "outputs": [],
   "source": [
    "output.to_csv('submission2.csv', index= False)"
   ],
   "metadata": {
    "collapsed": false,
    "pycharm": {
     "name": "#%%\n"
    }
   }
  },
  {
   "cell_type": "code",
   "execution_count": null,
   "outputs": [],
   "source": [],
   "metadata": {
    "collapsed": false,
    "pycharm": {
     "name": "#%%\n"
    }
   }
  }
 ],
 "metadata": {
  "kernelspec": {
   "display_name": "Python 3",
   "language": "python",
   "name": "python3"
  },
  "language_info": {
   "codemirror_mode": {
    "name": "ipython",
    "version": 2
   },
   "file_extension": ".py",
   "mimetype": "text/x-python",
   "name": "python",
   "nbconvert_exporter": "python",
   "pygments_lexer": "ipython2",
   "version": "2.7.6"
  }
 },
 "nbformat": 4,
 "nbformat_minor": 0
}